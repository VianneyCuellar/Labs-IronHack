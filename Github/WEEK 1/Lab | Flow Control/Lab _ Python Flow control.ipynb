{
 "cells": [
  {
   "cell_type": "code",
   "execution_count": null,
   "metadata": {},
   "outputs": [],
   "source": [
    "#Improve repeated code with loops (this is done throughout the whole solution)\n",
    "products = [\"t-shirt\", \"mug\", \"hat\", \"book\", \"keychain\"]\n",
    "inventory = {}\n",
    "\n",
    "for product in products:\n",
    "    quantity = int(input(f\"Enter the quantity of {product}s available: \"))\n",
    "    inventory[product] = quantity\n",
    "\n",
    "#Instead of asking the user to input the name of three products that a customer wants to order, do the following:\n",
    "\n",
    "\n",
    "customer_orders = set()\n",
    "add_another = 'yes'\n",
    "\n",
    "\n",
    "while add_another.lower() == 'yes':\n",
    "    product_name = input(\"Enter the name of a product that a customer wants to order: \")\n",
    "\n",
    "    customer_orders.add(product_name)\n",
    "    add_another = input(\"Do you want to add another product? (yes/no): \")\n",
    "\n",
    "\n",
    "#Instead of updating the inventory by subtracting 1 from the quantity of each product,\n",
    "#only do it for the products that were ordered (those in \"customer_orders\").\n",
    "\n",
    "for product in customer_orders:\n",
    "    if product in inventory:\n",
    "        inventory[product] -= 1\n",
    "\n",
    "\n",
    "print(\"Products in customer orders:\", customer_orders)\n",
    "\n",
    "print(\"Updated Inventory:\")\n",
    "for product, quantity in inventory.items():\n",
    "    print(f\"{product}: {quantity}\")\n"
   ]
  }
 ],
 "metadata": {
  "kernelspec": {
   "display_name": "base",
   "language": "python",
   "name": "python3"
  },
  "language_info": {
   "codemirror_mode": {
    "name": "ipython",
    "version": 3
   },
   "file_extension": ".py",
   "mimetype": "text/x-python",
   "name": "python",
   "nbconvert_exporter": "python",
   "pygments_lexer": "ipython3",
   "version": "3.10.9"
  },
  "orig_nbformat": 4
 },
 "nbformat": 4,
 "nbformat_minor": 2
}
