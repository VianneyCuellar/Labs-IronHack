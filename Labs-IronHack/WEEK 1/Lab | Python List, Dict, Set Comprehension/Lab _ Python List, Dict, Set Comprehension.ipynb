{
 "cells": [
  {
   "cell_type": "code",
   "execution_count": null,
   "metadata": {},
   "outputs": [],
   "source": [
    "#Review your code from the previous exercise and identify areas where you can apply comprehension to simplify and streamline your code.\n",
    "#Hint: Apply it to initialize inventory, updating the inventory and printing the updated inventory.\n",
    "#For example, in initializing the inventory, we could have:\n",
    "#def initialize_inventory(products):\n",
    "    #inventory = {product: int(input(f\"Enter the quantity of {product}s available: \")) for product in products}\n",
    "    #return inventory\n",
    "\n",
    "products = ['hat', 'hat','sunglasses', 'suncream', 'suncream', 'suncream']\n",
    "inventory = initialize_inventory(products)\n",
    "inventory = {}\n",
    "\n",
    "def initialize_inventory(inventory, products):\n",
    "    inventory = {product: int(input(f\"Enter the quantity of {product}s available: \")) for product in products}\n",
    "    return inventory\n",
    "\n",
    "\n",
    "#Modify the function get_customer_orders so it prompts the user to enter the number of customer orders and gathers the product names using a loop and user input. Use comprehension.\n",
    "\n",
    "\n",
    "def get_customer_orders():\n",
    "    num_orders = int(input(\"Enter the number of customer orders: \"))\n",
    "    customer_orders = [input(\"Enter the product name: \") for _ in range(num_orders)]\n",
    "    return customer_orders\n",
    "\n",
    "\n",
    "\n",
    "#Add a new function to calculate the total price of the customer order. For each product in the customer_orders list, prompt the user to enter the price of that product. Use comprehension to calculate the total price. Note: assume that the user can only have 1 unit of each product.\n",
    "\n",
    "\n",
    "def calculate_total_price(customer_orders):\n",
    "    prices = [float(input(f\"Enter the price of {product}: \")) for product in customer_orders]\n",
    "    total_price = sum(prices)\n",
    "    return total_price\n",
    "\n",
    "#Modify the update_inventory function to remove the product from the inventory if its quantity becomes zero after fulfilling the customer orders. Use comprehension to filter out the products with a quantity of zero from the inventory.\n",
    "\n",
    "def update_inventory(inventory, costumer_orders):\n",
    "    for order in costumer_orders:\n",
    "        if order in inventory:\n",
    "            if inventory[order]==0:\n",
    "                print(order, 'is out of stocks')\n",
    "            else:\n",
    "                inventory[order] -= 1\n",
    "    return {key:val for key,val in inventory.items() if val>0}\n"
   ]
  }
 ],
 "metadata": {
  "language_info": {
   "name": "python"
  },
  "orig_nbformat": 4
 },
 "nbformat": 4,
 "nbformat_minor": 2
}
