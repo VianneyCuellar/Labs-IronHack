{
 "cells": [
  {
   "cell_type": "code",
   "execution_count": null,
   "metadata": {},
   "outputs": [],
   "source": [
    "# Define the products list\n",
    "products = [\"t-shirt\", \"mug\", \"hat\", \"book\", \"keychain\"]\n",
    "\n",
    "# Create an empty dictionary for the inventory\n",
    "inventory = {}\n",
    "\n",
    "# Ask for input and populate the inventory dictionary\n",
    "for product in products:\n",
    "    quantity = int(input(f\"Enter the quantity of '{product}' available in the inventory: \"))\n",
    "    inventory[product] = quantity\n",
    "\n",
    "# Create an empty set for customer orders\n",
    "customer_orders = set()\n",
    "\n",
    "# Ask for input and add products to the customer_orders set\n",
    "for i in range(3):\n",
    "    product = input(f\"Enter the name of product {i+1} the customer wants to order: \")\n",
    "    customer_orders.add(product)\n",
    "\n",
    "# Print the products in the customer_orders set\n",
    "print(\"Products in customer orders:\", customer_orders)\n",
    "\n",
    "# Calculate order statistics\n",
    "total_products_ordered = len(customer_orders)\n",
    "unique_products_ordered = len(set(products) & customer_orders)\n",
    "percentage_ordered = (unique_products_ordered / len(products)) * 100\n",
    "\n",
    "# Store the order statistics in a tuple\n",
    "order_status = (\n",
    "    total_products_ordered,\n",
    "    unique_products_ordered,\n",
    "    percentage_ordered\n",
    ")\n",
    "\n",
    "# Print the order statistics\n",
    "print(\"\\nOrder Statistics:\")\n",
    "print(\"Total Products Ordered:\", order_status[0])\n",
    "print(\"Unique Products Ordered:\", order_status[1])\n",
    "print(\"Percentage of Unique Products Ordered: %.2f%%\" % order_status[2])\n",
    "\n",
    "# Update the inventory by subtracting 1 from each product's quantity\n",
    "for product in customer_orders:\n",
    "    inventory[product] -= 1\n",
    "\n",
    "# Print the updated inventory\n",
    "print(\"\\nUpdated Inventory:\")\n",
    "for product, quantity in inventory.items():\n",
    "    print(f\"{product}: {quantity}\""
   ]
  }
 ],
 "metadata": {
  "kernelspec": {
   "display_name": "base",
   "language": "python",
   "name": "python3"
  },
  "language_info": {
   "codemirror_mode": {
    "name": "ipython",
    "version": 3
   },
   "file_extension": ".py",
   "mimetype": "text/x-python",
   "name": "python",
   "nbconvert_exporter": "python",
   "pygments_lexer": "ipython3",
   "version": "3.10.9"
  },
  "orig_nbformat": 4
 },
 "nbformat": 4,
 "nbformat_minor": 2
}
